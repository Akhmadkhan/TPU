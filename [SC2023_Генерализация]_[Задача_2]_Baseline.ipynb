{
  "cells": [
    {
      "cell_type": "code",
      "execution_count": 2,
      "metadata": {
        "ExecuteTime": {
          "end_time": "2023-05-21T22:27:50.458103Z",
          "start_time": "2023-05-21T22:27:49.043756Z"
        },
        "id": "GqCDkGoxGxhZ"
      },
      "outputs": [],
      "source": [
        "# Визуализации\n",
        "\n",
        "from matplotlib import pyplot as plt\n",
        "import seaborn as sns"
      ]
    },
    {
      "cell_type": "code",
      "execution_count": 3,
      "metadata": {
        "ExecuteTime": {
          "end_time": "2023-05-20T08:11:49.009778Z",
          "start_time": "2023-05-20T08:11:49.006754Z"
        },
        "id": "gRB4j8H5Gxhe"
      },
      "outputs": [],
      "source": [
        "plt.style.use(\"bmh\")\n",
        "plt.rcParams[\"axes.titlesize\"] = \"large\""
      ]
    },
    {
      "cell_type": "code",
      "execution_count": 4,
      "metadata": {
        "ExecuteTime": {
          "end_time": "2023-05-21T22:27:50.470177Z",
          "start_time": "2023-05-21T22:27:50.460232Z"
        },
        "id": "BOSiYTbxGxhf"
      },
      "outputs": [],
      "source": [
        "# Общеe\n",
        "\n",
        "import os\n",
        "import tqdm\n",
        "import pathlib\n",
        "import numpy as np\n",
        "import pandas as pd\n",
        "\n",
        "tqdm.tqdm.pandas()\n",
        "pd.set_option('display.max_columns', None)"
      ]
    },
    {
      "cell_type": "code",
      "source": [
        "import numpy as np\n",
        "import pandas as pd\n",
        "from sklearn.linear_model import Lasso, Ridge\n",
        "from sklearn.svm import SVR\n",
        "from sklearn.preprocessing import PolynomialFeatures\n",
        "from sklearn.pipeline import Pipeline\n",
        "import pickle\n",
        "from sklearn.preprocessing import StandardScaler"
      ],
      "metadata": {
        "id": "cyP-MYI3_UBu"
      },
      "execution_count": 5,
      "outputs": []
    },
    {
      "cell_type": "markdown",
      "metadata": {
        "id": "3twGsdl-Gxhk"
      },
      "source": [
        "# Загрузка данных\n",
        "\n",
        "Данные хранятся в формате Parquet: читается быстрее, места занимает меньше."
      ]
    },
    {
      "cell_type": "code",
      "execution_count": 6,
      "metadata": {
        "ExecuteTime": {
          "end_time": "2023-05-21T22:43:47.054832Z",
          "start_time": "2023-05-21T22:43:46.857909Z"
        },
        "colab": {
          "base_uri": "https://localhost:8080/",
          "height": 226
        },
        "id": "dLnVY_5PGxhl",
        "outputId": "4768b761-8ca1-4074-f1d1-37d2880ac0d5"
      },
      "outputs": [
        {
          "output_type": "execute_result",
          "data": {
            "text/plain": [
              "    feature0   feature1   feature2   feature3 feature4   feature5   feature6  \\\n",
              "0  32.910908  17.376350  77.557840   2.929855     gas1  20.487150  57.633085   \n",
              "1  41.263782  22.419445  47.945514 -25.847472     gas2  21.461239   3.474080   \n",
              "2  25.580283  17.376350  77.654180   2.799411     gas1  20.487150  28.938295   \n",
              "3  33.756900  17.376350  73.049625   2.953982     gas1  20.487150  28.932311   \n",
              "4   4.223732  38.772534  48.015553 -25.843943     gas2  24.635721  12.011581   \n",
              "\n",
              "    feature7   feature8   feature9  feature10  feature11  feature12  \\\n",
              "0  49.245392 -44.124381  23.400064 -28.640648 -10.995420  40.856313   \n",
              "1  49.659980 -13.553188 -13.047593 -12.445940  16.657368  42.453280   \n",
              "2  49.245392 -44.124381  20.610679 -28.641150  -1.886830  40.927941   \n",
              "3  49.245392 -44.124381  18.107963 -28.642094  16.284415  40.869406   \n",
              "4  51.030938  84.244199 -17.735680  40.395582  16.557978  65.988300   \n",
              "\n",
              "   feature13   feature14  feature15  feature16  feature17  feature18  \\\n",
              "0  29.912800   33.168114  18.769718  41.812507  14.203652   9.689942   \n",
              "1  99.792375  127.159321 -13.180244  50.722470 -14.451904  -0.906120   \n",
              "2  16.340674   60.760647  18.658501  52.731646  14.395054   9.779019   \n",
              "3  43.707663   48.037510  18.771030  52.305692  14.184314   9.798969   \n",
              "4  91.081310  150.949700 -13.172169  51.012294 -14.439953   8.262354   \n",
              "\n",
              "    feature19  feature20   feature21   feature22  feature23   feature24  \\\n",
              "0   17.951627  24.198589  102.448710  110.529868  56.817260   12.887802   \n",
              "1  105.724742  -9.435222  -16.060150   37.286110  61.224272   39.822424   \n",
              "2   17.951638  24.999453  101.728213  111.471534  52.664304   12.887802   \n",
              "3   17.951675  23.990300  101.312113  115.589451  56.840719   12.887802   \n",
              "4   90.187207  -2.901661  -16.060150   37.398779  40.488468  128.295838   \n",
              "\n",
              "     target0    target1  \n",
              "0  27.050891   6.502743  \n",
              "1  84.127890  76.578716  \n",
              "2  22.080133   3.036043  \n",
              "3  30.234082   8.910795  \n",
              "4  71.128092  50.475082  "
            ],
            "text/html": [
              "\n",
              "  <div id=\"df-5589a045-7d02-4803-9282-732419507146\" class=\"colab-df-container\">\n",
              "    <div>\n",
              "<style scoped>\n",
              "    .dataframe tbody tr th:only-of-type {\n",
              "        vertical-align: middle;\n",
              "    }\n",
              "\n",
              "    .dataframe tbody tr th {\n",
              "        vertical-align: top;\n",
              "    }\n",
              "\n",
              "    .dataframe thead th {\n",
              "        text-align: right;\n",
              "    }\n",
              "</style>\n",
              "<table border=\"1\" class=\"dataframe\">\n",
              "  <thead>\n",
              "    <tr style=\"text-align: right;\">\n",
              "      <th></th>\n",
              "      <th>feature0</th>\n",
              "      <th>feature1</th>\n",
              "      <th>feature2</th>\n",
              "      <th>feature3</th>\n",
              "      <th>feature4</th>\n",
              "      <th>feature5</th>\n",
              "      <th>feature6</th>\n",
              "      <th>feature7</th>\n",
              "      <th>feature8</th>\n",
              "      <th>feature9</th>\n",
              "      <th>feature10</th>\n",
              "      <th>feature11</th>\n",
              "      <th>feature12</th>\n",
              "      <th>feature13</th>\n",
              "      <th>feature14</th>\n",
              "      <th>feature15</th>\n",
              "      <th>feature16</th>\n",
              "      <th>feature17</th>\n",
              "      <th>feature18</th>\n",
              "      <th>feature19</th>\n",
              "      <th>feature20</th>\n",
              "      <th>feature21</th>\n",
              "      <th>feature22</th>\n",
              "      <th>feature23</th>\n",
              "      <th>feature24</th>\n",
              "      <th>target0</th>\n",
              "      <th>target1</th>\n",
              "    </tr>\n",
              "  </thead>\n",
              "  <tbody>\n",
              "    <tr>\n",
              "      <th>0</th>\n",
              "      <td>32.910908</td>\n",
              "      <td>17.376350</td>\n",
              "      <td>77.557840</td>\n",
              "      <td>2.929855</td>\n",
              "      <td>gas1</td>\n",
              "      <td>20.487150</td>\n",
              "      <td>57.633085</td>\n",
              "      <td>49.245392</td>\n",
              "      <td>-44.124381</td>\n",
              "      <td>23.400064</td>\n",
              "      <td>-28.640648</td>\n",
              "      <td>-10.995420</td>\n",
              "      <td>40.856313</td>\n",
              "      <td>29.912800</td>\n",
              "      <td>33.168114</td>\n",
              "      <td>18.769718</td>\n",
              "      <td>41.812507</td>\n",
              "      <td>14.203652</td>\n",
              "      <td>9.689942</td>\n",
              "      <td>17.951627</td>\n",
              "      <td>24.198589</td>\n",
              "      <td>102.448710</td>\n",
              "      <td>110.529868</td>\n",
              "      <td>56.817260</td>\n",
              "      <td>12.887802</td>\n",
              "      <td>27.050891</td>\n",
              "      <td>6.502743</td>\n",
              "    </tr>\n",
              "    <tr>\n",
              "      <th>1</th>\n",
              "      <td>41.263782</td>\n",
              "      <td>22.419445</td>\n",
              "      <td>47.945514</td>\n",
              "      <td>-25.847472</td>\n",
              "      <td>gas2</td>\n",
              "      <td>21.461239</td>\n",
              "      <td>3.474080</td>\n",
              "      <td>49.659980</td>\n",
              "      <td>-13.553188</td>\n",
              "      <td>-13.047593</td>\n",
              "      <td>-12.445940</td>\n",
              "      <td>16.657368</td>\n",
              "      <td>42.453280</td>\n",
              "      <td>99.792375</td>\n",
              "      <td>127.159321</td>\n",
              "      <td>-13.180244</td>\n",
              "      <td>50.722470</td>\n",
              "      <td>-14.451904</td>\n",
              "      <td>-0.906120</td>\n",
              "      <td>105.724742</td>\n",
              "      <td>-9.435222</td>\n",
              "      <td>-16.060150</td>\n",
              "      <td>37.286110</td>\n",
              "      <td>61.224272</td>\n",
              "      <td>39.822424</td>\n",
              "      <td>84.127890</td>\n",
              "      <td>76.578716</td>\n",
              "    </tr>\n",
              "    <tr>\n",
              "      <th>2</th>\n",
              "      <td>25.580283</td>\n",
              "      <td>17.376350</td>\n",
              "      <td>77.654180</td>\n",
              "      <td>2.799411</td>\n",
              "      <td>gas1</td>\n",
              "      <td>20.487150</td>\n",
              "      <td>28.938295</td>\n",
              "      <td>49.245392</td>\n",
              "      <td>-44.124381</td>\n",
              "      <td>20.610679</td>\n",
              "      <td>-28.641150</td>\n",
              "      <td>-1.886830</td>\n",
              "      <td>40.927941</td>\n",
              "      <td>16.340674</td>\n",
              "      <td>60.760647</td>\n",
              "      <td>18.658501</td>\n",
              "      <td>52.731646</td>\n",
              "      <td>14.395054</td>\n",
              "      <td>9.779019</td>\n",
              "      <td>17.951638</td>\n",
              "      <td>24.999453</td>\n",
              "      <td>101.728213</td>\n",
              "      <td>111.471534</td>\n",
              "      <td>52.664304</td>\n",
              "      <td>12.887802</td>\n",
              "      <td>22.080133</td>\n",
              "      <td>3.036043</td>\n",
              "    </tr>\n",
              "    <tr>\n",
              "      <th>3</th>\n",
              "      <td>33.756900</td>\n",
              "      <td>17.376350</td>\n",
              "      <td>73.049625</td>\n",
              "      <td>2.953982</td>\n",
              "      <td>gas1</td>\n",
              "      <td>20.487150</td>\n",
              "      <td>28.932311</td>\n",
              "      <td>49.245392</td>\n",
              "      <td>-44.124381</td>\n",
              "      <td>18.107963</td>\n",
              "      <td>-28.642094</td>\n",
              "      <td>16.284415</td>\n",
              "      <td>40.869406</td>\n",
              "      <td>43.707663</td>\n",
              "      <td>48.037510</td>\n",
              "      <td>18.771030</td>\n",
              "      <td>52.305692</td>\n",
              "      <td>14.184314</td>\n",
              "      <td>9.798969</td>\n",
              "      <td>17.951675</td>\n",
              "      <td>23.990300</td>\n",
              "      <td>101.312113</td>\n",
              "      <td>115.589451</td>\n",
              "      <td>56.840719</td>\n",
              "      <td>12.887802</td>\n",
              "      <td>30.234082</td>\n",
              "      <td>8.910795</td>\n",
              "    </tr>\n",
              "    <tr>\n",
              "      <th>4</th>\n",
              "      <td>4.223732</td>\n",
              "      <td>38.772534</td>\n",
              "      <td>48.015553</td>\n",
              "      <td>-25.843943</td>\n",
              "      <td>gas2</td>\n",
              "      <td>24.635721</td>\n",
              "      <td>12.011581</td>\n",
              "      <td>51.030938</td>\n",
              "      <td>84.244199</td>\n",
              "      <td>-17.735680</td>\n",
              "      <td>40.395582</td>\n",
              "      <td>16.557978</td>\n",
              "      <td>65.988300</td>\n",
              "      <td>91.081310</td>\n",
              "      <td>150.949700</td>\n",
              "      <td>-13.172169</td>\n",
              "      <td>51.012294</td>\n",
              "      <td>-14.439953</td>\n",
              "      <td>8.262354</td>\n",
              "      <td>90.187207</td>\n",
              "      <td>-2.901661</td>\n",
              "      <td>-16.060150</td>\n",
              "      <td>37.398779</td>\n",
              "      <td>40.488468</td>\n",
              "      <td>128.295838</td>\n",
              "      <td>71.128092</td>\n",
              "      <td>50.475082</td>\n",
              "    </tr>\n",
              "  </tbody>\n",
              "</table>\n",
              "</div>\n",
              "    <div class=\"colab-df-buttons\">\n",
              "\n",
              "  <div class=\"colab-df-container\">\n",
              "    <button class=\"colab-df-convert\" onclick=\"convertToInteractive('df-5589a045-7d02-4803-9282-732419507146')\"\n",
              "            title=\"Convert this dataframe to an interactive table.\"\n",
              "            style=\"display:none;\">\n",
              "\n",
              "  <svg xmlns=\"http://www.w3.org/2000/svg\" height=\"24px\" viewBox=\"0 -960 960 960\">\n",
              "    <path d=\"M120-120v-720h720v720H120Zm60-500h600v-160H180v160Zm220 220h160v-160H400v160Zm0 220h160v-160H400v160ZM180-400h160v-160H180v160Zm440 0h160v-160H620v160ZM180-180h160v-160H180v160Zm440 0h160v-160H620v160Z\"/>\n",
              "  </svg>\n",
              "    </button>\n",
              "\n",
              "  <style>\n",
              "    .colab-df-container {\n",
              "      display:flex;\n",
              "      gap: 12px;\n",
              "    }\n",
              "\n",
              "    .colab-df-convert {\n",
              "      background-color: #E8F0FE;\n",
              "      border: none;\n",
              "      border-radius: 50%;\n",
              "      cursor: pointer;\n",
              "      display: none;\n",
              "      fill: #1967D2;\n",
              "      height: 32px;\n",
              "      padding: 0 0 0 0;\n",
              "      width: 32px;\n",
              "    }\n",
              "\n",
              "    .colab-df-convert:hover {\n",
              "      background-color: #E2EBFA;\n",
              "      box-shadow: 0px 1px 2px rgba(60, 64, 67, 0.3), 0px 1px 3px 1px rgba(60, 64, 67, 0.15);\n",
              "      fill: #174EA6;\n",
              "    }\n",
              "\n",
              "    .colab-df-buttons div {\n",
              "      margin-bottom: 4px;\n",
              "    }\n",
              "\n",
              "    [theme=dark] .colab-df-convert {\n",
              "      background-color: #3B4455;\n",
              "      fill: #D2E3FC;\n",
              "    }\n",
              "\n",
              "    [theme=dark] .colab-df-convert:hover {\n",
              "      background-color: #434B5C;\n",
              "      box-shadow: 0px 1px 3px 1px rgba(0, 0, 0, 0.15);\n",
              "      filter: drop-shadow(0px 1px 2px rgba(0, 0, 0, 0.3));\n",
              "      fill: #FFFFFF;\n",
              "    }\n",
              "  </style>\n",
              "\n",
              "    <script>\n",
              "      const buttonEl =\n",
              "        document.querySelector('#df-5589a045-7d02-4803-9282-732419507146 button.colab-df-convert');\n",
              "      buttonEl.style.display =\n",
              "        google.colab.kernel.accessAllowed ? 'block' : 'none';\n",
              "\n",
              "      async function convertToInteractive(key) {\n",
              "        const element = document.querySelector('#df-5589a045-7d02-4803-9282-732419507146');\n",
              "        const dataTable =\n",
              "          await google.colab.kernel.invokeFunction('convertToInteractive',\n",
              "                                                    [key], {});\n",
              "        if (!dataTable) return;\n",
              "\n",
              "        const docLinkHtml = 'Like what you see? Visit the ' +\n",
              "          '<a target=\"_blank\" href=https://colab.research.google.com/notebooks/data_table.ipynb>data table notebook</a>'\n",
              "          + ' to learn more about interactive tables.';\n",
              "        element.innerHTML = '';\n",
              "        dataTable['output_type'] = 'display_data';\n",
              "        await google.colab.output.renderOutput(dataTable, element);\n",
              "        const docLink = document.createElement('div');\n",
              "        docLink.innerHTML = docLinkHtml;\n",
              "        element.appendChild(docLink);\n",
              "      }\n",
              "    </script>\n",
              "  </div>\n",
              "\n",
              "\n",
              "<div id=\"df-e619ffa3-a06b-420b-b949-85be7d803fa4\">\n",
              "  <button class=\"colab-df-quickchart\" onclick=\"quickchart('df-e619ffa3-a06b-420b-b949-85be7d803fa4')\"\n",
              "            title=\"Suggest charts\"\n",
              "            style=\"display:none;\">\n",
              "\n",
              "<svg xmlns=\"http://www.w3.org/2000/svg\" height=\"24px\"viewBox=\"0 0 24 24\"\n",
              "     width=\"24px\">\n",
              "    <g>\n",
              "        <path d=\"M19 3H5c-1.1 0-2 .9-2 2v14c0 1.1.9 2 2 2h14c1.1 0 2-.9 2-2V5c0-1.1-.9-2-2-2zM9 17H7v-7h2v7zm4 0h-2V7h2v10zm4 0h-2v-4h2v4z\"/>\n",
              "    </g>\n",
              "</svg>\n",
              "  </button>\n",
              "\n",
              "<style>\n",
              "  .colab-df-quickchart {\n",
              "      --bg-color: #E8F0FE;\n",
              "      --fill-color: #1967D2;\n",
              "      --hover-bg-color: #E2EBFA;\n",
              "      --hover-fill-color: #174EA6;\n",
              "      --disabled-fill-color: #AAA;\n",
              "      --disabled-bg-color: #DDD;\n",
              "  }\n",
              "\n",
              "  [theme=dark] .colab-df-quickchart {\n",
              "      --bg-color: #3B4455;\n",
              "      --fill-color: #D2E3FC;\n",
              "      --hover-bg-color: #434B5C;\n",
              "      --hover-fill-color: #FFFFFF;\n",
              "      --disabled-bg-color: #3B4455;\n",
              "      --disabled-fill-color: #666;\n",
              "  }\n",
              "\n",
              "  .colab-df-quickchart {\n",
              "    background-color: var(--bg-color);\n",
              "    border: none;\n",
              "    border-radius: 50%;\n",
              "    cursor: pointer;\n",
              "    display: none;\n",
              "    fill: var(--fill-color);\n",
              "    height: 32px;\n",
              "    padding: 0;\n",
              "    width: 32px;\n",
              "  }\n",
              "\n",
              "  .colab-df-quickchart:hover {\n",
              "    background-color: var(--hover-bg-color);\n",
              "    box-shadow: 0 1px 2px rgba(60, 64, 67, 0.3), 0 1px 3px 1px rgba(60, 64, 67, 0.15);\n",
              "    fill: var(--button-hover-fill-color);\n",
              "  }\n",
              "\n",
              "  .colab-df-quickchart-complete:disabled,\n",
              "  .colab-df-quickchart-complete:disabled:hover {\n",
              "    background-color: var(--disabled-bg-color);\n",
              "    fill: var(--disabled-fill-color);\n",
              "    box-shadow: none;\n",
              "  }\n",
              "\n",
              "  .colab-df-spinner {\n",
              "    border: 2px solid var(--fill-color);\n",
              "    border-color: transparent;\n",
              "    border-bottom-color: var(--fill-color);\n",
              "    animation:\n",
              "      spin 1s steps(1) infinite;\n",
              "  }\n",
              "\n",
              "  @keyframes spin {\n",
              "    0% {\n",
              "      border-color: transparent;\n",
              "      border-bottom-color: var(--fill-color);\n",
              "      border-left-color: var(--fill-color);\n",
              "    }\n",
              "    20% {\n",
              "      border-color: transparent;\n",
              "      border-left-color: var(--fill-color);\n",
              "      border-top-color: var(--fill-color);\n",
              "    }\n",
              "    30% {\n",
              "      border-color: transparent;\n",
              "      border-left-color: var(--fill-color);\n",
              "      border-top-color: var(--fill-color);\n",
              "      border-right-color: var(--fill-color);\n",
              "    }\n",
              "    40% {\n",
              "      border-color: transparent;\n",
              "      border-right-color: var(--fill-color);\n",
              "      border-top-color: var(--fill-color);\n",
              "    }\n",
              "    60% {\n",
              "      border-color: transparent;\n",
              "      border-right-color: var(--fill-color);\n",
              "    }\n",
              "    80% {\n",
              "      border-color: transparent;\n",
              "      border-right-color: var(--fill-color);\n",
              "      border-bottom-color: var(--fill-color);\n",
              "    }\n",
              "    90% {\n",
              "      border-color: transparent;\n",
              "      border-bottom-color: var(--fill-color);\n",
              "    }\n",
              "  }\n",
              "</style>\n",
              "\n",
              "  <script>\n",
              "    async function quickchart(key) {\n",
              "      const quickchartButtonEl =\n",
              "        document.querySelector('#' + key + ' button');\n",
              "      quickchartButtonEl.disabled = true;  // To prevent multiple clicks.\n",
              "      quickchartButtonEl.classList.add('colab-df-spinner');\n",
              "      try {\n",
              "        const charts = await google.colab.kernel.invokeFunction(\n",
              "            'suggestCharts', [key], {});\n",
              "      } catch (error) {\n",
              "        console.error('Error during call to suggestCharts:', error);\n",
              "      }\n",
              "      quickchartButtonEl.classList.remove('colab-df-spinner');\n",
              "      quickchartButtonEl.classList.add('colab-df-quickchart-complete');\n",
              "    }\n",
              "    (() => {\n",
              "      let quickchartButtonEl =\n",
              "        document.querySelector('#df-e619ffa3-a06b-420b-b949-85be7d803fa4 button');\n",
              "      quickchartButtonEl.style.display =\n",
              "        google.colab.kernel.accessAllowed ? 'block' : 'none';\n",
              "    })();\n",
              "  </script>\n",
              "</div>\n",
              "    </div>\n",
              "  </div>\n"
            ]
          },
          "metadata": {},
          "execution_count": 6
        }
      ],
      "source": [
        "data = pd.read_parquet(\"train.parquet\")\n",
        "data.head()"
      ]
    },
    {
      "cell_type": "markdown",
      "metadata": {
        "id": "TkZalPlKGxho"
      },
      "source": [
        "Проверяем, что с пропусками:"
      ]
    },
    {
      "cell_type": "code",
      "execution_count": 7,
      "metadata": {
        "ExecuteTime": {
          "end_time": "2023-05-20T08:11:49.459073Z",
          "start_time": "2023-05-20T08:11:49.447400Z"
        },
        "colab": {
          "base_uri": "https://localhost:8080/"
        },
        "id": "wMr6T98JGxho",
        "outputId": "41f1fca9-9b1d-45ac-eb25-62d04dcd84c2"
      },
      "outputs": [
        {
          "output_type": "execute_result",
          "data": {
            "text/plain": [
              "0.0"
            ]
          },
          "metadata": {},
          "execution_count": 7
        }
      ],
      "source": [
        "data.isnull().any().mean()"
      ]
    },
    {
      "cell_type": "markdown",
      "metadata": {
        "ExecuteTime": {
          "end_time": "2023-05-20T08:00:04.482901Z",
          "start_time": "2023-05-20T08:00:04.479458Z"
        },
        "id": "CNQjy1E1Gxhn"
      },
      "source": [
        "В данных есть один категориальный признак: `feature4`. Он может принимать значения `gas1` и `gas2`. Таргета два: `target0` и `target1`."
      ]
    },
    {
      "cell_type": "code",
      "source": [
        "data['target_class'] = (data['feature4'] == 'gas1').astype(int)\n",
        "data.drop(labels=['feature4'], axis=1, inplace=True)\n",
        "key_cols = ['target0', 'target1', 'target_class']\n",
        "cols_for_features = ['feature' + str(i) for i in range(25) if i != 4]"
      ],
      "metadata": {
        "id": "Nn6x1PbwACkO"
      },
      "execution_count": 8,
      "outputs": []
    },
    {
      "cell_type": "markdown",
      "source": [
        "Построим модель Ridge (target0 gas=2)"
      ],
      "metadata": {
        "id": "lqvwhabOE4_t"
      }
    },
    {
      "cell_type": "code",
      "source": [
        "current_target = 'target0'\n",
        "current_target_class = 0\n",
        "current_train = data[data['target_class'] ==\n",
        "                     current_target_class].reset_index(drop=True)\n",
        "model = Pipeline([('polynom', PolynomialFeatures(degree=4)),\n",
        " ('ss', StandardScaler(with_std=True)),\n",
        "  ('lasso', Ridge(alpha=5))])\n",
        "model.fit(current_train[cols_for_features], current_train[current_target])\n",
        "pickle.dump(model,\n",
        "            open('model_' + current_target + '_for_target_' +\n",
        "                 str(current_target_class) + '_big.pkl', 'wb'))"
      ],
      "metadata": {
        "id": "jHeQEL8bE5js"
      },
      "execution_count": null,
      "outputs": []
    },
    {
      "cell_type": "markdown",
      "source": [
        "Построим модель Lasso (target0 gas=1)"
      ],
      "metadata": {
        "id": "S-upveD5Caa9"
      }
    },
    {
      "cell_type": "code",
      "source": [
        "current_target = 'target0'\n",
        "current_target_class = 1\n",
        "current_train = data[data['target_class'] ==\n",
        "                     current_target_class].reset_index(drop=True)\n",
        "model = Pipeline([('polynom', PolynomialFeatures(degree=3)),\n",
        "                    ('model_ridge', Lasso(alpha=1))])\n",
        "model.fit(current_train[cols_for_features], current_train[current_target])\n",
        "pickle.dump(model,\n",
        "            open('model_' + current_target + '_for_target_' +\n",
        "                 str(current_target_class) + '.pkl', 'wb'))"
      ],
      "metadata": {
        "id": "l1bzleOhCw7K"
      },
      "execution_count": null,
      "outputs": []
    },
    {
      "cell_type": "markdown",
      "source": [
        "SVR (target0, gas=1):"
      ],
      "metadata": {
        "id": "LGf3DDgpGJF8"
      }
    },
    {
      "cell_type": "code",
      "source": [
        "%%time\n",
        "current_target = 'target0'\n",
        "current_target_class = 1\n",
        "current_train = data[data['target_class'] ==\n",
        "                     current_target_class].reset_index(drop=True)\n",
        "model = Pipeline([('model_ridge', SVR(kernel='poly', degree=4, C=3.0))])\n",
        "model.fit(current_train[cols_for_features], current_train[current_target])\n",
        "pickle.dump(model,\n",
        "            open('model_' + current_target + '_for_target_' +\n",
        "                 str(current_target_class) + '_svr_d4_C3.pkl', 'wb'))"
      ],
      "metadata": {
        "id": "l1rx8kukGJbb"
      },
      "execution_count": null,
      "outputs": []
    },
    {
      "cell_type": "markdown",
      "source": [
        "Построим модель Lasso (target1 gas=2)"
      ],
      "metadata": {
        "id": "VcJgsUgrHKeE"
      }
    },
    {
      "cell_type": "code",
      "source": [
        "current_target = 'target1'\n",
        "current_target_class = 0\n",
        "current_train = data[data['target_class'] ==\n",
        "                   current_target_class].reset_index(drop=True)\n",
        "model = Pipeline([('polynom', PolynomialFeatures(degree=3)),\n",
        " ('model_ridge', Lasso(alpha=1))])\n",
        "model.fit(current_train[cols_for_features], current_train[current_target])\n",
        "pickle.dump(model,\n",
        "            open('model_' + current_target + '_for_target_' +\n",
        "                 str(current_target_class) + '.pkl', 'wb'))"
      ],
      "metadata": {
        "id": "4ZLarsszHXu1"
      },
      "execution_count": null,
      "outputs": []
    },
    {
      "cell_type": "markdown",
      "source": [
        "Построим модель Ridge (target1 gas=2)"
      ],
      "metadata": {
        "id": "oraNqJKnHc9H"
      }
    },
    {
      "cell_type": "code",
      "source": [
        "current_target = 'target1'\n",
        "current_target_class = 0\n",
        "current_train = data[data['target_class'] ==\n",
        "                     current_target_class].reset_index(drop=True)\n",
        "model = Pipeline([('polynom', PolynomialFeatures(degree=3)),\n",
        " ('ss', StandardScaler(with_std=True)),\n",
        "  ('lasso', Ridge(alpha=0.01))])\n",
        "model.fit(current_train[cols_for_features], current_train[current_target])\n",
        "pickle.dump(model,\n",
        "            open('model_' + current_target + '_for_target_' +\n",
        "                 str(current_target_class) + '_ss_ridge_001.pkl', 'wb'))"
      ],
      "metadata": {
        "id": "EooYSilwHty9"
      },
      "execution_count": null,
      "outputs": []
    },
    {
      "cell_type": "markdown",
      "source": [
        "SVR (target1, gas=1):"
      ],
      "metadata": {
        "id": "ofCEIMmWH0gY"
      }
    },
    {
      "cell_type": "code",
      "source": [
        "%%time\n",
        "current_target = 'target1'\n",
        "current_target_class = 1\n",
        "current_train = data[data['target_class'] ==\n",
        "                     current_target_class].reset_index(drop=True)\n",
        "model = Pipeline([('model_ridge', SVR(kernel='poly', degree=5, C=3.0))])\n",
        "model.fit(current_train[cols_for_features], current_train[current_target])\n",
        "pickle.dump(model,\n",
        "            open('model_' + current_target + '_for_target_' +\n",
        "                 str(current_target_class) + '_svr_C_3.pkl', 'wb'))"
      ],
      "metadata": {
        "id": "FxA6RoA2IAPO"
      },
      "execution_count": null,
      "outputs": []
    },
    {
      "cell_type": "markdown",
      "source": [
        "Lasso squares"
      ],
      "metadata": {
        "id": "SvRI3kexIJRH"
      }
    },
    {
      "cell_type": "code",
      "source": [
        "%%time\n",
        "current_target = 'target1'\n",
        "current_target_class = 1\n",
        "train11 = data.loc[data['target_class'] ==\n",
        "                   current_target_class, :].reset_index(drop=True)\n",
        "train11_target = train11[current_target].values\n",
        "train11 = train11[cols_for_features]\n",
        "for i in range(len(cols_for_features)):\n",
        "  train11[cols_for_features[i] + '_2'] = train11[cols_for_features[i]]\n",
        "model = Pipeline([('polynom', PolynomialFeatures(degree=3)),\n",
        " ('ss', StandardScaler()),\n",
        "  ('lasso', Lasso(alpha=0.0001))])\n",
        "model.fit(train11, train11_target)\n",
        "pickle.dump(model,\n",
        "            open('model_' + current_target + '_for_target_' +\n",
        "              str(current_target_class) + '_lasso_squares.pkl', 'wb'))"
      ],
      "metadata": {
        "id": "Z7iqMag4INwj"
      },
      "execution_count": null,
      "outputs": []
    },
    {
      "cell_type": "markdown",
      "metadata": {
        "ExecuteTime": {
          "end_time": "2023-05-21T22:28:55.225855Z",
          "start_time": "2023-05-21T22:28:55.212112Z"
        },
        "id": "KPL3iTZRGxht"
      },
      "source": [
        "# Создаём сабмит"
      ]
    },
    {
      "cell_type": "code",
      "execution_count": null,
      "metadata": {
        "ExecuteTime": {
          "end_time": "2023-05-21T22:48:19.267175Z",
          "start_time": "2023-05-21T22:48:19.256411Z"
        },
        "id": "2q93mLZXGxht"
      },
      "outputs": [],
      "source": [
        "%%writefile predict.py\n",
        "import warnings\n",
        "warnings.filterwarnings('ignore')\n",
        "import pathlib\n",
        "import pandas as pd\n",
        "import numpy as np\n",
        "import pickle\n",
        "from multiprocessing import Pool\n",
        "\n",
        "DATA_DIR = pathlib.Path(\".\")\n",
        "\n",
        "# Lasso\n",
        "MODEL_FILE_target01 =\n",
        "pathlib.Path(__file__).parent.joinpath(\"model_target0_for_target_1\n",
        ".pkl\")\n",
        "MODEL_FILE_target10 =\n",
        "pathlib.Path(__file__).parent.joinpath(\"model_target1_for_target_0\n",
        ".pkl\")\n",
        "\n",
        "# Ridge\n",
        "MODEL_FILE_target00_ridge =\n",
        "pathlib.Path(__file__).parent.joinpath(\"model_target0_for_target_0\n",
        "_big.pkl\")\n",
        "MODEL_FILE_target10_ridge =\n",
        "pathlib.Path(__file__).parent.joinpath(\"model_target1_for_target_0\n",
        "_ss_ridge_001.pkl\")\n",
        "\n",
        "# SVR\n",
        "MODEL_FILE_target01_svr =\n",
        "pathlib.Path(__file__).parent.joinpath(\"model_target0_for_target_1\n",
        "_svr_d4_C3.pkl\")\n",
        "MODEL_FILE_target11_svr =\n",
        "pathlib.Path(__file__).parent.joinpath(\"model_target1_for_target_1\n",
        "_svr_C_3.pkl\")\n",
        "\n",
        "# Square\n",
        "MODEL_FILE_target11_square =\n",
        "pathlib.Path(__file__).parent.joinpath(\"model_target1_for_target_1\n",
        "_lasso_squares.pkl\")\n",
        "\n",
        "models_dict = {}\n",
        "models_dict['target0'] = {}\n",
        "models_dict['target1'] = {}\n",
        "models_dict['target0'][0] = {}\n",
        "models_dict['target0'][0]['ridge'] = MODEL_FILE_target00_ridge\n",
        "models_dict['target0'][1] = {}\n",
        "models_dict['target0'][1]['lasso'] = MODEL_FILE_target01\n",
        "models_dict['target0'][1]['svr'] = MODEL_FILE_target01_svr\n",
        "models_dict['target1'][0] = {}\n",
        "models_dict['target1'][0]['lasso'] = MODEL_FILE_target10\n",
        "models_dict['target1'][0]['ridge'] = MODEL_FILE_target10_ridge\n",
        "models_dict['target1'][1] = {}\n",
        "models_dict['target1'][1]['svr'] = MODEL_FILE_target11_svr\n",
        "models_dict['target1'][1]['square'] = MODEL_FILE_target11_square\n",
        "\n",
        "def predict_batch(df: pd.DataFrame) -> pd.DataFrame:\n",
        "  df['target_class'] = (df['feature4'] == 'gas1') * 1\n",
        "  df.drop(labels=['feature4'], axis=1, inplace=True)\n",
        "  key_cols = ['target0', 'target1', 'target_class']\n",
        "  cols_for_features = ['feature' + str(i) for i in range(25) if i != 4]\n",
        "\n",
        "  predictions = df[['target_class']]\n",
        "\n",
        "  current_target = 'target0'\n",
        "  current_target_class = 0\n",
        "  current_test = df[df['target_class'] == current_target_class]\n",
        "  model_ridge = pickle.load(open(models_dict[current_target]\n",
        "    [current_target_class]['ridge'], 'rb'))\n",
        "  predictions.loc[current_test.index, current_target] =\n",
        "    model_ridge.predict(current_test[cols_for_features])\n",
        "\n",
        "\n",
        "  current_target = 'target0'\n",
        "  current_target_class = 1\n",
        "  current_test = df[df['target_class'] == current_target_class]\n",
        "  model_lasso = pickle.load(open(models_dict[current_target]\n",
        "    [current_target_class]['lasso'], 'rb'))\n",
        "  model_svr = pickle.load(open(models_dict[current_target]\n",
        "    [current_target_class]['svr'], 'rb'))\n",
        "  predictions.loc[current_test.index, current_target] =\\\n",
        "  (0.5 * model_lasso.predict(current_test[cols_for_features]) +\\\n",
        "  0.5 * model_svr.predict(current_test[cols_for_features]))\n",
        "\n",
        "  current_target = 'target1'\n",
        "  current_target_class = 0\n",
        "  current_test = df[df['target_class'] == current_target_class]\n",
        "  model_lasso = pickle.load(open(models_dict[current_target]\n",
        "    [current_target_class]['lasso'], 'rb'))\n",
        "  model_ridge = pickle.load(open(models_dict[current_target]\n",
        "    [current_target_class]['ridge'], 'rb'))\n",
        "  predictions.loc[current_test.index, current_target] =\\\n",
        "  (0.5 * model_lasso.predict(current_test[cols_for_features]) +\\\n",
        "    0.5 * model_ridge.predict(current_test[cols_for_features]))\n",
        "\n",
        "  current_target = 'target1'\n",
        "  current_target_class = 1\n",
        "  current_test = df.loc[df['target_class'] == current_target_class]\n",
        "  model_svr = pickle.load(open(models_dict[current_target]\n",
        "    [current_target_class]['svr'], 'rb'))\n",
        "  model_square = pickle.load(open(models_dict[current_target]\n",
        "    [current_target_class]['square'], 'rb'))\n",
        "  test11 = df.loc[df['target_class'] == current_target_class, cols_for_features]\n",
        "  for i in range(len(cols_for_features)):\n",
        "    test11[cols_for_features[i] + '_2'] = test11[cols_for_features[i]] *\\\n",
        "     test11[cols_for_features[i]]\n",
        "\n",
        "  predictions.loc[current_test.index, current_target] =\\\n",
        "      (0.5 * model_square.predict(test11) +\\\n",
        "      0.5 * model_svr.predict(current_test[cols_for_features]))\n",
        "\n",
        "  predictions = predictions[['target0', 'target1']]\n",
        "  predictions['target0'] = np.clip(predictions['target0'], 0, 100)\n",
        "  predictions['target1'] = np.clip(predictions['target1'], 0, 100)\n",
        "  return predictions\n",
        "\n",
        "def predict(df: pd.DataFrame) -> pd.DataFrame:\n",
        "  pool = Pool(4)\n",
        "  prediction_table = pool.map(predict_batch, [df.iloc[i * 5_000: (i + 1) *\\\n",
        "   5_000] for i in range(df.shape[0] // 5_000 + 1)])\n",
        "  return pd.concat(prediction_table).sort_index()"
      ]
    }
  ],
  "metadata": {
    "kernelspec": {
      "display_name": "Python 3",
      "language": "python",
      "name": "python3"
    },
    "language_info": {
      "codemirror_mode": {
        "name": "ipython",
        "version": 3
      },
      "file_extension": ".py",
      "mimetype": "text/x-python",
      "name": "python",
      "nbconvert_exporter": "python",
      "pygments_lexer": "ipython3",
      "version": "3.8.12"
    },
    "vscode": {
      "interpreter": {
        "hash": "8566eb0607572741f5df0b9bba8d97b510d80a4d430b258b7e0e8478f0b151dd"
      }
    },
    "colab": {
      "provenance": []
    }
  },
  "nbformat": 4,
  "nbformat_minor": 0
}